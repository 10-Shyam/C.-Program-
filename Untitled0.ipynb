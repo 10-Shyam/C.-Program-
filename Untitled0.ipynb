{
  "nbformat": 4,
  "nbformat_minor": 0,
  "metadata": {
    "colab": {
      "provenance": [],
      "authorship_tag": "ABX9TyNKvJm8jq3lfJXS7dw4d46/",
      "include_colab_link": true
    },
    "kernelspec": {
      "name": "python3",
      "display_name": "Python 3"
    },
    "language_info": {
      "name": "python"
    }
  },
  "cells": [
    {
      "cell_type": "markdown",
      "metadata": {
        "id": "view-in-github",
        "colab_type": "text"
      },
      "source": [
        "<a href=\"https://colab.research.google.com/github/10-Shyam/C.-Program-/blob/main/Untitled0.ipynb\" target=\"_parent\"><img src=\"https://colab.research.google.com/assets/colab-badge.svg\" alt=\"Open In Colab\"/></a>"
      ]
    },
    {
      "cell_type": "code",
      "execution_count": null,
      "metadata": {
        "colab": {
          "base_uri": "https://localhost:8080/"
        },
        "id": "OGvbqv9NfExD",
        "outputId": "d1c96ce9-5479-4384-846f-70690e060210"
      },
      "outputs": [
        {
          "output_type": "stream",
          "name": "stdout",
          "text": [
            "Even list is  [2, 4, 6, 8, 12]\n",
            "Odd list is  [1, 3, 5, 7, 9]\n",
            "Even square value  [4, 16, 36, 64, 144]\n",
            "Odd square value  [1, 9, 25, 49, 81]\n"
          ]
        }
      ],
      "source": [
        "a=[1,2,3,4,5,6,7,8,9,12]\n",
        "e=[]\n",
        "o=[]\n",
        "se=[]\n",
        "so=[]\n",
        "for j in a:\n",
        "  if(j%2==0):\n",
        "     e.append(j)\n",
        "     se.append(j*j)\n",
        "  else:\n",
        "     o.append(j)\n",
        "     so.append(j*j)\n",
        "print(\"Even list is \",e)\n",
        "print(\"Odd list is \",o)\n",
        "print(\"Even square value \",se)\n",
        "print(\"Odd square value \",so)"
      ]
    },
    {
      "cell_type": "code",
      "source": [
        "def find(a):\n",
        "  large=a[0]\n",
        "  small=a[0]\n",
        "  for i in a:\n",
        "    if i > large:\n",
        "      large = i\n",
        "    elif i < small:\n",
        "      small = i\n",
        "  return large, small\n",
        "a= [1, 2, 42, 25, 63, 37, 8, 19]\n",
        "large,small=find(a)\n",
        "print(\"Largest number:\", large)\n",
        "print(\"Smallest number:\", small)"
      ],
      "metadata": {
        "colab": {
          "base_uri": "https://localhost:8080/"
        },
        "id": "vvLnVPRGj2nN",
        "outputId": "1704a6b4-e6bb-47fc-f196-6e273786515f"
      },
      "execution_count": null,
      "outputs": [
        {
          "output_type": "stream",
          "name": "stdout",
          "text": [
            "Largest number: 63\n",
            "Smallest number: 1\n"
          ]
        }
      ]
    },
    {
      "cell_type": "code",
      "source": [
        "def find(num):\n",
        "  large=num[0]\n",
        "  second_large = num[1]\n",
        "  small = num[0]\n",
        "  second_small= num[1]\n",
        "  for i in range(2, len(num)):\n",
        "    if num[i] > large:\n",
        "      second_large = large\n",
        "      large = num[i]\n",
        "    elif num[i] > second_large:\n",
        "      second_large = num[i]\n",
        "    if num[i] < small:\n",
        "      second_small = small\n",
        "      small = num[i]\n",
        "    elif num[i] < second_small:\n",
        "      second_small = num[i]\n",
        "  return second_large, second_small\n",
        "num = [101, 33, 18, 24, 20, 1]\n",
        "second_large, second_small = find(num)\n",
        "print(f\"Second largest: {second_large}\")\n",
        "print(f\"Second smallest: {second_small}\")"
      ],
      "metadata": {
        "colab": {
          "base_uri": "https://localhost:8080/"
        },
        "id": "PdxQmyFAo5yK",
        "outputId": "4280668c-1e0f-409f-a789-91d833d5ab12"
      },
      "execution_count": null,
      "outputs": [
        {
          "output_type": "stream",
          "name": "stdout",
          "text": [
            "Second largest: 101\n",
            "Second smallest: 21\n"
          ]
        }
      ]
    },
    {
      "cell_type": "code",
      "source": [
        "def sort_asc(a):\n",
        "  for i in range(len(a) - 1):\n",
        "    for j in range(i + 1, len(a)):\n",
        "      if a[j] < a[i]:\n",
        "        a[i], a[j] = a[j], a[i]\n",
        "  return a\n",
        "def sort_des(a):\n",
        "  for i in range(len(a) - 1):\n",
        "    for j in range(i + 1, len(a)):\n",
        "      if a[j] > a[i]:\n",
        "        a[i], a[j] = a[j], a[i]\n",
        "  return a\n",
        "a = [1, 2, 3, 4, 5]\n",
        "print(\"Original list:\", a)\n",
        "ascending_sorted_list =sort_asc(a.copy())\n",
        "print(\"Ascending sorted list:\", ascending_sorted_list)\n",
        "descending_sorted_list = sort_des(a.copy())\n",
        "print(\"Descending sorted list:\", descending_sorted_list)"
      ],
      "metadata": {
        "colab": {
          "base_uri": "https://localhost:8080/"
        },
        "id": "DcqLPvrSp8ea",
        "outputId": "7e220825-d824-474a-9a97-321d5f8ebb10"
      },
      "execution_count": null,
      "outputs": [
        {
          "output_type": "stream",
          "name": "stdout",
          "text": [
            "Original list: [1, 2, 3, 4, 5]\n",
            "Ascending sorted list: [1, 2, 3, 4, 5]\n",
            "Descending sorted list: [5, 4, 3, 2, 1]\n"
          ]
        }
      ]
    },
    {
      "cell_type": "code",
      "source": [
        "a=[1,2,3,4,5,6,7,8,9]\n",
        "b=6\n",
        "c=a.index(b)\n",
        "print(c)"
      ],
      "metadata": {
        "colab": {
          "base_uri": "https://localhost:8080/"
        },
        "id": "zvJBL8zJrxp2",
        "outputId": "1abae7da-9ceb-4d32-888f-02c94284e27b"
      },
      "execution_count": null,
      "outputs": [
        {
          "output_type": "stream",
          "name": "stdout",
          "text": [
            "5\n"
          ]
        }
      ]
    },
    {
      "cell_type": "code",
      "source": [
        "def most(a):\n",
        "    lists = [a.count(x) for x in a]\n",
        "    maximum= max(lists)\n",
        "    frequent = a[lists.index(maximum)]\n",
        "    return frequent\n",
        "a = [1,3,5,6,2,6,7,6,6,4,4]\n",
        "print(most(a))"
      ],
      "metadata": {
        "colab": {
          "base_uri": "https://localhost:8080/"
        },
        "id": "rhqPA66xxbKY",
        "outputId": "c76e94cc-e730-4aac-dcf5-d26df3e261c5"
      },
      "execution_count": null,
      "outputs": [
        {
          "output_type": "stream",
          "name": "stdout",
          "text": [
            "6\n"
          ]
        }
      ]
    },
    {
      "cell_type": "code",
      "source": [
        "x=['Ten','Twenty','Thirty']\n",
        "y=[10,20,30]\n",
        "a={}\n",
        "a.update(zip(x,y))\n",
        "print(a)"
      ],
      "metadata": {
        "colab": {
          "base_uri": "https://localhost:8080/"
        },
        "id": "IJNYGFj2yDK5",
        "outputId": "1d5bc34a-510f-4385-8730-2be32e1a19d2"
      },
      "execution_count": null,
      "outputs": [
        {
          "output_type": "stream",
          "name": "stdout",
          "text": [
            "{'Ten': 10, 'Twenty': 20, 'Thirty': 30}\n"
          ]
        }
      ]
    },
    {
      "cell_type": "code",
      "source": [
        "voter=[]\n",
        "v=0\n",
        "r=0\n",
        "d=0\n",
        "n=0\n",
        "w=[]\n",
        "x=[]\n",
        "y=[]\n",
        "z=[]\n",
        "for i in range(10):\n",
        "  i=input()\n",
        "  voter.append(i)\n",
        "for j in voter:\n",
        "  a=int(input(\"\"\"Press 1 to vote Virat\n",
        "           Press 2 to vote Rohit\n",
        "           Press 3 to vote Dhoni\n",
        "           Press 4 to vote Nota\"\"\"))\n",
        "  if a==1:\n",
        "    v=v+1\n",
        "    w.append(j)\n",
        "  elif a==2:\n",
        "    r=r+1\n",
        "    x.append(j)\n",
        "  elif a==3:\n",
        "    d=d+1\n",
        "    y.append(j)\n",
        "  else:\n",
        "    n = n + 1\n",
        "z.append(j)\n",
        "if v > r and v > d and v > n:\n",
        "  print(\"Virat is the WINNER got \", v, \"Votes by\", w)\n",
        "if r>v and r> d and r > n:\n",
        "  print(\"Rohit is the WINNER got \",r,\"Votes by\",x)\n",
        "if d>r and d>v and d>n:\n",
        "  print(\"Dhoni is the WINNER got \",d,\"Votes by\",y)\n",
        "if n>r and n>d and n>v:\n",
        "  print(\"Nota is the WINNER got \",n,\"Votes by\",z)"
      ],
      "metadata": {
        "colab": {
          "base_uri": "https://localhost:8080/"
        },
        "id": "7qkgGdESz5hX",
        "outputId": "5afb8b97-a66b-4c07-9a9d-05ff4552acf3"
      },
      "execution_count": null,
      "outputs": [
        {
          "output_type": "stream",
          "name": "stdout",
          "text": [
            "q\n",
            "w\n",
            "\n",
            "r\n",
            "t\n",
            "y\n",
            "u\n",
            "i\n",
            "o\n",
            "p\n",
            "Press 1 to vote Virat\n",
            "           Press 2 to vote Rohit\n",
            "           Press 3 to vote Dhoni\n",
            "           Press 4 to vote Nota1\n",
            "Press 1 to vote Virat\n",
            "           Press 2 to vote Rohit\n",
            "           Press 3 to vote Dhoni\n",
            "           Press 4 to vote Nota1\n",
            "Press 1 to vote Virat\n",
            "           Press 2 to vote Rohit\n",
            "           Press 3 to vote Dhoni\n",
            "           Press 4 to vote Nota1\n",
            "Press 1 to vote Virat\n",
            "           Press 2 to vote Rohit\n",
            "           Press 3 to vote Dhoni\n",
            "           Press 4 to vote Nota2\n",
            "Press 1 to vote Virat\n",
            "           Press 2 to vote Rohit\n",
            "           Press 3 to vote Dhoni\n",
            "           Press 4 to vote Nota2\n",
            "Press 1 to vote Virat\n",
            "           Press 2 to vote Rohit\n",
            "           Press 3 to vote Dhoni\n",
            "           Press 4 to vote Nota2\n",
            "Press 1 to vote Virat\n",
            "           Press 2 to vote Rohit\n",
            "           Press 3 to vote Dhoni\n",
            "           Press 4 to vote Nota3\n",
            "Press 1 to vote Virat\n",
            "           Press 2 to vote Rohit\n",
            "           Press 3 to vote Dhoni\n",
            "           Press 4 to vote Nota3\n",
            "Press 1 to vote Virat\n",
            "           Press 2 to vote Rohit\n",
            "           Press 3 to vote Dhoni\n",
            "           Press 4 to vote Nota3\n",
            "Press 1 to vote Virat\n",
            "           Press 2 to vote Rohit\n",
            "           Press 3 to vote Dhoni\n",
            "           Press 4 to vote Nota3\n",
            "Dhoni is the WINNER got  4 Votes by ['u', 'i', 'o', 'p']\n"
          ]
        }
      ]
    },
    {
      "cell_type": "code",
      "source": [
        "\n",
        "def rupees_to_dollars(rupees):\n",
        "  dollars = rupees / 75\n",
        "  return dollars\n",
        "\n",
        "def celsius_to_fahrenheit(celsius):\n",
        "  fahrenheit = (celsius * 9/5) + 32\n",
        "  return fahrenheit\n",
        "\n",
        "def bmi_calculator(weight, height):\n",
        "  bmi = weight / (height * height)\n",
        "  return bmi\n",
        "\n",
        "def simple_interest(principal, rate, time):\n",
        "  interest = (principal * rate * time) / 100\n",
        "  return interest\n",
        "\n",
        "rupees = float(input(\"Enter amount in Rupees: \"))\n",
        "celsius = float(input(\"Enter temperature in Celsius: \"))\n",
        "weight = float(input(\"Enter weight in kg: \"))\n",
        "height = float(input(\"Enter height in meters: \"))\n",
        "principal = float(input(\"Enter principal amount: \"))\n",
        "rate = float(input(\"Enter rate of interest: \"))\n",
        "time = float(input(\"Enter time in years: \"))\n",
        "\n",
        "dollars = rupees_to_dollars(rupees)\n",
        "fahrenheit = celsius_to_fahrenheit(celsius)\n",
        "bmi = bmi_calculator(weight, height)\n",
        "interest = simple_interest(principal, rate, time)\n",
        "\n",
        "print(f\"{rupees} Rupees is equal to {dollars:.2f} Dollars\")\n",
        "print(f\"{celsius} Celsius is equal to {fahrenheit:.2f} Fahrenheit\")\n",
        "print(f\"BMI is {bmi:.2f}\")\n",
        "print(f\"Simple interest is {interest:.2f}\")"
      ],
      "metadata": {
        "colab": {
          "base_uri": "https://localhost:8080/"
        },
        "id": "aRu-M_mVz8Xs",
        "outputId": "37f0f32a-39c7-41f2-c6f0-df59eec55dd1"
      },
      "execution_count": null,
      "outputs": [
        {
          "output_type": "stream",
          "name": "stdout",
          "text": [
            "Enter amount in Rupees: 80\n",
            "Enter temperature in Celsius: 40\n",
            "Enter weight in kg: 65\n",
            "Enter height in meters: 160\n",
            "Enter principal amount: 1000\n",
            "Enter rate of interest: 2\n",
            "Enter time in years: 2\n",
            "80.0 Rupees is equal to 1.07 Dollars\n",
            "40.0 Celsius is equal to 104.00 Fahrenheit\n",
            "BMI is 0.00\n",
            "Simple interest is 40.00\n"
          ]
        }
      ]
    },
    {
      "cell_type": "code",
      "source": [
        "def get_binary_list(length):\n",
        "  import random\n",
        "  binary_list = []\n",
        "  for _ in range(length):\n",
        "    binary_list.append(random.randint(0, 1))\n",
        "  return binary_list\n",
        "binary_list = get_binary_list(10)\n",
        "print(binary_list)\n"
      ],
      "metadata": {
        "colab": {
          "base_uri": "https://localhost:8080/"
        },
        "id": "KBAf4SxQ5qAc",
        "outputId": "659063e2-326c-49e4-ac20-a2d2c22177c0"
      },
      "execution_count": null,
      "outputs": [
        {
          "output_type": "stream",
          "name": "stdout",
          "text": [
            "[0, 1, 0, 1, 1, 0, 0, 1, 0, 1]\n"
          ]
        }
      ]
    }
  ]
}